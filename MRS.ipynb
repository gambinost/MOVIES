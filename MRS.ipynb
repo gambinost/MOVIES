{
 "cells": [
  {
   "cell_type": "code",
   "execution_count": 3,
   "id": "11cff657-2109-4eb6-9e03-8ce464fbbc2f",
   "metadata": {},
   "outputs": [
    {
     "data": {
      "text/html": [
       "<div>\n",
       "<style scoped>\n",
       "    .dataframe tbody tr th:only-of-type {\n",
       "        vertical-align: middle;\n",
       "    }\n",
       "\n",
       "    .dataframe tbody tr th {\n",
       "        vertical-align: top;\n",
       "    }\n",
       "\n",
       "    .dataframe thead th {\n",
       "        text-align: right;\n",
       "    }\n",
       "</style>\n",
       "<table border=\"1\" class=\"dataframe\">\n",
       "  <thead>\n",
       "    <tr style=\"text-align: right;\">\n",
       "      <th></th>\n",
       "      <th>id</th>\n",
       "      <th>title</th>\n",
       "      <th>vote_average</th>\n",
       "      <th>vote_count</th>\n",
       "      <th>status</th>\n",
       "      <th>release_date</th>\n",
       "      <th>revenue</th>\n",
       "      <th>runtime</th>\n",
       "      <th>adult</th>\n",
       "      <th>backdrop_path</th>\n",
       "      <th>...</th>\n",
       "      <th>original_title</th>\n",
       "      <th>overview</th>\n",
       "      <th>popularity</th>\n",
       "      <th>poster_path</th>\n",
       "      <th>tagline</th>\n",
       "      <th>genres</th>\n",
       "      <th>production_companies</th>\n",
       "      <th>production_countries</th>\n",
       "      <th>spoken_languages</th>\n",
       "      <th>keywords</th>\n",
       "    </tr>\n",
       "  </thead>\n",
       "  <tbody>\n",
       "    <tr>\n",
       "      <th>0</th>\n",
       "      <td>27205</td>\n",
       "      <td>Inception</td>\n",
       "      <td>8.364</td>\n",
       "      <td>34495</td>\n",
       "      <td>Released</td>\n",
       "      <td>2010-07-15</td>\n",
       "      <td>825532764</td>\n",
       "      <td>148</td>\n",
       "      <td>False</td>\n",
       "      <td>/8ZTVqvKDQ8emSGUEMjsS4yHAwrp.jpg</td>\n",
       "      <td>...</td>\n",
       "      <td>Inception</td>\n",
       "      <td>Cobb, a skilled thief who commits corporate es...</td>\n",
       "      <td>83.952</td>\n",
       "      <td>/oYuLEt3zVCKq57qu2F8dT7NIa6f.jpg</td>\n",
       "      <td>Your mind is the scene of the crime.</td>\n",
       "      <td>Action, Science Fiction, Adventure</td>\n",
       "      <td>Legendary Pictures, Syncopy, Warner Bros. Pict...</td>\n",
       "      <td>United Kingdom, United States of America</td>\n",
       "      <td>English, French, Japanese, Swahili</td>\n",
       "      <td>rescue, mission, dream, airplane, paris, franc...</td>\n",
       "    </tr>\n",
       "    <tr>\n",
       "      <th>1</th>\n",
       "      <td>157336</td>\n",
       "      <td>Interstellar</td>\n",
       "      <td>8.417</td>\n",
       "      <td>32571</td>\n",
       "      <td>Released</td>\n",
       "      <td>2014-11-05</td>\n",
       "      <td>701729206</td>\n",
       "      <td>169</td>\n",
       "      <td>False</td>\n",
       "      <td>/pbrkL804c8yAv3zBZR4QPEafpAR.jpg</td>\n",
       "      <td>...</td>\n",
       "      <td>Interstellar</td>\n",
       "      <td>The adventures of a group of explorers who mak...</td>\n",
       "      <td>140.241</td>\n",
       "      <td>/gEU2QniE6E77NI6lCU6MxlNBvIx.jpg</td>\n",
       "      <td>Mankind was born on Earth. It was never meant ...</td>\n",
       "      <td>Adventure, Drama, Science Fiction</td>\n",
       "      <td>Legendary Pictures, Syncopy, Lynda Obst Produc...</td>\n",
       "      <td>United Kingdom, United States of America</td>\n",
       "      <td>English</td>\n",
       "      <td>rescue, future, spacecraft, race against time,...</td>\n",
       "    </tr>\n",
       "    <tr>\n",
       "      <th>2</th>\n",
       "      <td>155</td>\n",
       "      <td>The Dark Knight</td>\n",
       "      <td>8.512</td>\n",
       "      <td>30619</td>\n",
       "      <td>Released</td>\n",
       "      <td>2008-07-16</td>\n",
       "      <td>1004558444</td>\n",
       "      <td>152</td>\n",
       "      <td>False</td>\n",
       "      <td>/nMKdUUepR0i5zn0y1T4CsSB5chy.jpg</td>\n",
       "      <td>...</td>\n",
       "      <td>The Dark Knight</td>\n",
       "      <td>Batman raises the stakes in his war on crime. ...</td>\n",
       "      <td>130.643</td>\n",
       "      <td>/qJ2tW6WMUDux911r6m7haRef0WH.jpg</td>\n",
       "      <td>Welcome to a world without rules.</td>\n",
       "      <td>Drama, Action, Crime, Thriller</td>\n",
       "      <td>DC Comics, Legendary Pictures, Syncopy, Isobel...</td>\n",
       "      <td>United Kingdom, United States of America</td>\n",
       "      <td>English, Mandarin</td>\n",
       "      <td>joker, sadism, chaos, secret identity, crime f...</td>\n",
       "    </tr>\n",
       "    <tr>\n",
       "      <th>3</th>\n",
       "      <td>19995</td>\n",
       "      <td>Avatar</td>\n",
       "      <td>7.573</td>\n",
       "      <td>29815</td>\n",
       "      <td>Released</td>\n",
       "      <td>2009-12-15</td>\n",
       "      <td>2923706026</td>\n",
       "      <td>162</td>\n",
       "      <td>False</td>\n",
       "      <td>/vL5LR6WdxWPjLPFRLe133jXWsh5.jpg</td>\n",
       "      <td>...</td>\n",
       "      <td>Avatar</td>\n",
       "      <td>In the 22nd century, a paraplegic Marine is di...</td>\n",
       "      <td>79.932</td>\n",
       "      <td>/kyeqWdyUXW608qlYkRqosgbbJyK.jpg</td>\n",
       "      <td>Enter the world of Pandora.</td>\n",
       "      <td>Action, Adventure, Fantasy, Science Fiction</td>\n",
       "      <td>Dune Entertainment, Lightstorm Entertainment, ...</td>\n",
       "      <td>United States of America, United Kingdom</td>\n",
       "      <td>English, Spanish</td>\n",
       "      <td>future, society, culture clash, space travel, ...</td>\n",
       "    </tr>\n",
       "    <tr>\n",
       "      <th>4</th>\n",
       "      <td>24428</td>\n",
       "      <td>The Avengers</td>\n",
       "      <td>7.710</td>\n",
       "      <td>29166</td>\n",
       "      <td>Released</td>\n",
       "      <td>2012-04-25</td>\n",
       "      <td>1518815515</td>\n",
       "      <td>143</td>\n",
       "      <td>False</td>\n",
       "      <td>/9BBTo63ANSmhC4e6r62OJFuK2GL.jpg</td>\n",
       "      <td>...</td>\n",
       "      <td>The Avengers</td>\n",
       "      <td>When an unexpected enemy emerges and threatens...</td>\n",
       "      <td>98.082</td>\n",
       "      <td>/RYMX2wcKCBAr24UyPD7xwmjaTn.jpg</td>\n",
       "      <td>Some assembly required.</td>\n",
       "      <td>Science Fiction, Action, Adventure</td>\n",
       "      <td>Marvel Studios</td>\n",
       "      <td>United States of America</td>\n",
       "      <td>English, Hindi, Russian</td>\n",
       "      <td>new york city, superhero, shield, based on com...</td>\n",
       "    </tr>\n",
       "  </tbody>\n",
       "</table>\n",
       "<p>5 rows × 24 columns</p>\n",
       "</div>"
      ],
      "text/plain": [
       "       id            title  vote_average  vote_count    status release_date  \\\n",
       "0   27205        Inception         8.364       34495  Released   2010-07-15   \n",
       "1  157336     Interstellar         8.417       32571  Released   2014-11-05   \n",
       "2     155  The Dark Knight         8.512       30619  Released   2008-07-16   \n",
       "3   19995           Avatar         7.573       29815  Released   2009-12-15   \n",
       "4   24428     The Avengers         7.710       29166  Released   2012-04-25   \n",
       "\n",
       "      revenue  runtime  adult                     backdrop_path  ...  \\\n",
       "0   825532764      148  False  /8ZTVqvKDQ8emSGUEMjsS4yHAwrp.jpg  ...   \n",
       "1   701729206      169  False  /pbrkL804c8yAv3zBZR4QPEafpAR.jpg  ...   \n",
       "2  1004558444      152  False  /nMKdUUepR0i5zn0y1T4CsSB5chy.jpg  ...   \n",
       "3  2923706026      162  False  /vL5LR6WdxWPjLPFRLe133jXWsh5.jpg  ...   \n",
       "4  1518815515      143  False  /9BBTo63ANSmhC4e6r62OJFuK2GL.jpg  ...   \n",
       "\n",
       "    original_title                                           overview  \\\n",
       "0        Inception  Cobb, a skilled thief who commits corporate es...   \n",
       "1     Interstellar  The adventures of a group of explorers who mak...   \n",
       "2  The Dark Knight  Batman raises the stakes in his war on crime. ...   \n",
       "3           Avatar  In the 22nd century, a paraplegic Marine is di...   \n",
       "4     The Avengers  When an unexpected enemy emerges and threatens...   \n",
       "\n",
       "  popularity                       poster_path  \\\n",
       "0     83.952  /oYuLEt3zVCKq57qu2F8dT7NIa6f.jpg   \n",
       "1    140.241  /gEU2QniE6E77NI6lCU6MxlNBvIx.jpg   \n",
       "2    130.643  /qJ2tW6WMUDux911r6m7haRef0WH.jpg   \n",
       "3     79.932  /kyeqWdyUXW608qlYkRqosgbbJyK.jpg   \n",
       "4     98.082   /RYMX2wcKCBAr24UyPD7xwmjaTn.jpg   \n",
       "\n",
       "                                             tagline  \\\n",
       "0               Your mind is the scene of the crime.   \n",
       "1  Mankind was born on Earth. It was never meant ...   \n",
       "2                  Welcome to a world without rules.   \n",
       "3                        Enter the world of Pandora.   \n",
       "4                            Some assembly required.   \n",
       "\n",
       "                                        genres  \\\n",
       "0           Action, Science Fiction, Adventure   \n",
       "1            Adventure, Drama, Science Fiction   \n",
       "2               Drama, Action, Crime, Thriller   \n",
       "3  Action, Adventure, Fantasy, Science Fiction   \n",
       "4           Science Fiction, Action, Adventure   \n",
       "\n",
       "                                production_companies  \\\n",
       "0  Legendary Pictures, Syncopy, Warner Bros. Pict...   \n",
       "1  Legendary Pictures, Syncopy, Lynda Obst Produc...   \n",
       "2  DC Comics, Legendary Pictures, Syncopy, Isobel...   \n",
       "3  Dune Entertainment, Lightstorm Entertainment, ...   \n",
       "4                                     Marvel Studios   \n",
       "\n",
       "                       production_countries  \\\n",
       "0  United Kingdom, United States of America   \n",
       "1  United Kingdom, United States of America   \n",
       "2  United Kingdom, United States of America   \n",
       "3  United States of America, United Kingdom   \n",
       "4                  United States of America   \n",
       "\n",
       "                     spoken_languages  \\\n",
       "0  English, French, Japanese, Swahili   \n",
       "1                             English   \n",
       "2                   English, Mandarin   \n",
       "3                    English, Spanish   \n",
       "4             English, Hindi, Russian   \n",
       "\n",
       "                                            keywords  \n",
       "0  rescue, mission, dream, airplane, paris, franc...  \n",
       "1  rescue, future, spacecraft, race against time,...  \n",
       "2  joker, sadism, chaos, secret identity, crime f...  \n",
       "3  future, society, culture clash, space travel, ...  \n",
       "4  new york city, superhero, shield, based on com...  \n",
       "\n",
       "[5 rows x 24 columns]"
      ]
     },
     "execution_count": 3,
     "metadata": {},
     "output_type": "execute_result"
    }
   ],
   "source": [
    "import pandas as pd\n",
    "df=pd.read_csv(r\"C:\\Users\\CompuFast\\OneDrive\\Desktop\\TMDB_movie_dataset_v11.csv\",header=0)\n",
    "df.head()"
   ]
  },
  {
   "cell_type": "code",
   "execution_count": 4,
   "id": "1ad2f830-3060-484a-9e7f-cb406786c0de",
   "metadata": {},
   "outputs": [
    {
     "data": {
      "text/plain": [
       "Index(['id', 'title', 'vote_average', 'vote_count', 'status', 'release_date',\n",
       "       'revenue', 'runtime', 'adult', 'backdrop_path', 'budget', 'homepage',\n",
       "       'imdb_id', 'original_language', 'original_title', 'overview',\n",
       "       'popularity', 'poster_path', 'tagline', 'genres',\n",
       "       'production_companies', 'production_countries', 'spoken_languages',\n",
       "       'keywords'],\n",
       "      dtype='object')"
      ]
     },
     "execution_count": 4,
     "metadata": {},
     "output_type": "execute_result"
    }
   ],
   "source": [
    "df.columns"
   ]
  },
  {
   "cell_type": "code",
   "execution_count": 5,
   "id": "d939e69c-e9e8-406a-9ba7-cda58667a93d",
   "metadata": {},
   "outputs": [
    {
     "data": {
      "text/html": [
       "<div>\n",
       "<style scoped>\n",
       "    .dataframe tbody tr th:only-of-type {\n",
       "        vertical-align: middle;\n",
       "    }\n",
       "\n",
       "    .dataframe tbody tr th {\n",
       "        vertical-align: top;\n",
       "    }\n",
       "\n",
       "    .dataframe thead th {\n",
       "        text-align: right;\n",
       "    }\n",
       "</style>\n",
       "<table border=\"1\" class=\"dataframe\">\n",
       "  <thead>\n",
       "    <tr style=\"text-align: right;\">\n",
       "      <th></th>\n",
       "      <th>id</th>\n",
       "      <th>vote_average</th>\n",
       "      <th>vote_count</th>\n",
       "      <th>revenue</th>\n",
       "      <th>runtime</th>\n",
       "      <th>budget</th>\n",
       "      <th>popularity</th>\n",
       "    </tr>\n",
       "  </thead>\n",
       "  <tbody>\n",
       "    <tr>\n",
       "      <th>count</th>\n",
       "      <td>1.058675e+06</td>\n",
       "      <td>1.058675e+06</td>\n",
       "      <td>1.058675e+06</td>\n",
       "      <td>1.058675e+06</td>\n",
       "      <td>1.058675e+06</td>\n",
       "      <td>1.058675e+06</td>\n",
       "      <td>1.058675e+06</td>\n",
       "    </tr>\n",
       "    <tr>\n",
       "      <th>mean</th>\n",
       "      <td>6.956178e+05</td>\n",
       "      <td>2.002076e+00</td>\n",
       "      <td>2.025814e+01</td>\n",
       "      <td>7.157280e+05</td>\n",
       "      <td>4.944329e+01</td>\n",
       "      <td>2.805240e+05</td>\n",
       "      <td>1.293365e+00</td>\n",
       "    </tr>\n",
       "    <tr>\n",
       "      <th>std</th>\n",
       "      <td>3.723586e+05</td>\n",
       "      <td>3.072888e+00</td>\n",
       "      <td>3.299876e+02</td>\n",
       "      <td>1.799855e+07</td>\n",
       "      <td>6.205908e+01</td>\n",
       "      <td>5.057937e+06</td>\n",
       "      <td>7.857289e+00</td>\n",
       "    </tr>\n",
       "    <tr>\n",
       "      <th>min</th>\n",
       "      <td>2.000000e+00</td>\n",
       "      <td>0.000000e+00</td>\n",
       "      <td>0.000000e+00</td>\n",
       "      <td>-1.200000e+01</td>\n",
       "      <td>-2.800000e+01</td>\n",
       "      <td>0.000000e+00</td>\n",
       "      <td>0.000000e+00</td>\n",
       "    </tr>\n",
       "    <tr>\n",
       "      <th>25%</th>\n",
       "      <td>3.876335e+05</td>\n",
       "      <td>0.000000e+00</td>\n",
       "      <td>0.000000e+00</td>\n",
       "      <td>0.000000e+00</td>\n",
       "      <td>0.000000e+00</td>\n",
       "      <td>0.000000e+00</td>\n",
       "      <td>6.000000e-01</td>\n",
       "    </tr>\n",
       "    <tr>\n",
       "      <th>50%</th>\n",
       "      <td>6.974230e+05</td>\n",
       "      <td>0.000000e+00</td>\n",
       "      <td>0.000000e+00</td>\n",
       "      <td>0.000000e+00</td>\n",
       "      <td>2.700000e+01</td>\n",
       "      <td>0.000000e+00</td>\n",
       "      <td>6.000000e-01</td>\n",
       "    </tr>\n",
       "    <tr>\n",
       "      <th>75%</th>\n",
       "      <td>1.022196e+06</td>\n",
       "      <td>5.000000e+00</td>\n",
       "      <td>1.000000e+00</td>\n",
       "      <td>0.000000e+00</td>\n",
       "      <td>9.000000e+01</td>\n",
       "      <td>0.000000e+00</td>\n",
       "      <td>8.870000e-01</td>\n",
       "    </tr>\n",
       "    <tr>\n",
       "      <th>max</th>\n",
       "      <td>1.311309e+06</td>\n",
       "      <td>1.000000e+01</td>\n",
       "      <td>3.449500e+04</td>\n",
       "      <td>3.000000e+09</td>\n",
       "      <td>1.440000e+04</td>\n",
       "      <td>9.000000e+08</td>\n",
       "      <td>2.994357e+03</td>\n",
       "    </tr>\n",
       "  </tbody>\n",
       "</table>\n",
       "</div>"
      ],
      "text/plain": [
       "                 id  vote_average    vote_count       revenue       runtime  \\\n",
       "count  1.058675e+06  1.058675e+06  1.058675e+06  1.058675e+06  1.058675e+06   \n",
       "mean   6.956178e+05  2.002076e+00  2.025814e+01  7.157280e+05  4.944329e+01   \n",
       "std    3.723586e+05  3.072888e+00  3.299876e+02  1.799855e+07  6.205908e+01   \n",
       "min    2.000000e+00  0.000000e+00  0.000000e+00 -1.200000e+01 -2.800000e+01   \n",
       "25%    3.876335e+05  0.000000e+00  0.000000e+00  0.000000e+00  0.000000e+00   \n",
       "50%    6.974230e+05  0.000000e+00  0.000000e+00  0.000000e+00  2.700000e+01   \n",
       "75%    1.022196e+06  5.000000e+00  1.000000e+00  0.000000e+00  9.000000e+01   \n",
       "max    1.311309e+06  1.000000e+01  3.449500e+04  3.000000e+09  1.440000e+04   \n",
       "\n",
       "             budget    popularity  \n",
       "count  1.058675e+06  1.058675e+06  \n",
       "mean   2.805240e+05  1.293365e+00  \n",
       "std    5.057937e+06  7.857289e+00  \n",
       "min    0.000000e+00  0.000000e+00  \n",
       "25%    0.000000e+00  6.000000e-01  \n",
       "50%    0.000000e+00  6.000000e-01  \n",
       "75%    0.000000e+00  8.870000e-01  \n",
       "max    9.000000e+08  2.994357e+03  "
      ]
     },
     "execution_count": 5,
     "metadata": {},
     "output_type": "execute_result"
    }
   ],
   "source": [
    "df.describe()"
   ]
  },
  {
   "cell_type": "code",
   "execution_count": 6,
   "id": "a6ba9ad4-eb4b-4fac-9f5e-c13d60069165",
   "metadata": {},
   "outputs": [
    {
     "name": "stdout",
     "output_type": "stream",
     "text": [
      "<class 'pandas.core.frame.DataFrame'>\n",
      "RangeIndex: 1058675 entries, 0 to 1058674\n",
      "Data columns (total 24 columns):\n",
      " #   Column                Non-Null Count    Dtype  \n",
      "---  ------                --------------    -----  \n",
      " 0   id                    1058675 non-null  int64  \n",
      " 1   title                 1058663 non-null  object \n",
      " 2   vote_average          1058675 non-null  float64\n",
      " 3   vote_count            1058675 non-null  int64  \n",
      " 4   status                1058675 non-null  object \n",
      " 5   release_date          915240 non-null   object \n",
      " 6   revenue               1058675 non-null  int64  \n",
      " 7   runtime               1058675 non-null  int64  \n",
      " 8   adult                 1058675 non-null  bool   \n",
      " 9   backdrop_path         290852 non-null   object \n",
      " 10  budget                1058675 non-null  int64  \n",
      " 11  homepage              114186 non-null   object \n",
      " 12  imdb_id               585588 non-null   object \n",
      " 13  original_language     1058675 non-null  object \n",
      " 14  original_title        1058663 non-null  object \n",
      " 15  overview              860577 non-null   object \n",
      " 16  popularity            1058675 non-null  float64\n",
      " 17  poster_path           748492 non-null   object \n",
      " 18  tagline               150995 non-null   object \n",
      " 19  genres                654389 non-null   object \n",
      " 20  production_companies  492629 non-null   object \n",
      " 21  production_countries  611915 non-null   object \n",
      " 22  spoken_languages      626820 non-null   object \n",
      " 23  keywords              298231 non-null   object \n",
      "dtypes: bool(1), float64(2), int64(5), object(16)\n",
      "memory usage: 186.8+ MB\n"
     ]
    }
   ],
   "source": [
    "df.info()"
   ]
  },
  {
   "cell_type": "code",
   "execution_count": 7,
   "id": "dd08382c-f703-4fd3-8b0f-06bd0ed7ee70",
   "metadata": {},
   "outputs": [
    {
     "name": "stdout",
     "output_type": "stream",
     "text": [
      "null values before :  id                           0\n",
      "title                       12\n",
      "vote_average                 0\n",
      "vote_count                   0\n",
      "status                       0\n",
      "release_date            143435\n",
      "revenue                      0\n",
      "runtime                      0\n",
      "adult                        0\n",
      "backdrop_path           767823\n",
      "budget                       0\n",
      "homepage                944489\n",
      "imdb_id                 473087\n",
      "original_language            0\n",
      "original_title              12\n",
      "overview                198098\n",
      "popularity                   0\n",
      "poster_path             310183\n",
      "tagline                 907680\n",
      "genres                  404286\n",
      "production_companies    566046\n",
      "production_countries    446760\n",
      "spoken_languages        431855\n",
      "keywords                760444\n",
      "dtype: int64\n"
     ]
    }
   ],
   "source": [
    "print(\"null values before : \",df.isnull().sum())"
   ]
  },
  {
   "cell_type": "markdown",
   "id": "c0a4e779-2d7c-401c-8d9c-7e4df3f8e814",
   "metadata": {},
   "source": [
    "# data cleaning"
   ]
  },
  {
   "cell_type": "code",
   "execution_count": 8,
   "id": "c2aa1ea0-4ed2-4d7b-a415-c4dc42977dc5",
   "metadata": {},
   "outputs": [
    {
     "name": "stderr",
     "output_type": "stream",
     "text": [
      "C:\\Users\\CompuFast\\AppData\\Local\\Temp\\ipykernel_20832\\966746515.py:14: FutureWarning: A value is trying to be set on a copy of a DataFrame or Series through chained assignment using an inplace method.\n",
      "The behavior will change in pandas 3.0. This inplace method will never work because the intermediate object on which we are setting values always behaves as a copy.\n",
      "\n",
      "For example, when doing 'df[col].method(value, inplace=True)', try using 'df.method({col: value}, inplace=True)' or df[col] = df[col].method(value) instead, to perform the operation inplace on the original object.\n",
      "\n",
      "\n",
      "  df['spoken_languages'].fillna(df['spoken_languages'].mode()[0], inplace=True)\n"
     ]
    }
   ],
   "source": [
    "df.drop(df.columns[0], axis=1, inplace=True)\n",
    "df.fillna({\n",
    "    'title': 'unknown',\n",
    "    'genres': 'unknown',\n",
    "    'production_companies': 'unknown',\n",
    "    'production_countries': 'unknown',\n",
    "    'keywords': 'unknown',\n",
    "    'overview':'unknown',\n",
    "    'tagline':'unknown',\n",
    "    'poster_path':'unknown'\n",
    "}, inplace=True)\n",
    "\n",
    "df.drop(['backdrop_path', 'homepage','imdb_id','original_title'], axis=1, inplace=True)\n",
    "df['spoken_languages'].fillna(df['spoken_languages'].mode()[0], inplace=True)"
   ]
  },
  {
   "cell_type": "code",
   "execution_count": 9,
   "id": "c477ca2f-3b22-44e3-a7bf-8ce9f7e54981",
   "metadata": {},
   "outputs": [],
   "source": [
    "df.dropna(subset=[\"release_date\"],inplace=True)"
   ]
  },
  {
   "cell_type": "code",
   "execution_count": 10,
   "id": "d69c905c-9c7b-4203-8f02-12877e129ceb",
   "metadata": {},
   "outputs": [
    {
     "name": "stdout",
     "output_type": "stream",
     "text": [
      "null values after filling cleaning :  title                   0\n",
      "vote_average            0\n",
      "vote_count              0\n",
      "status                  0\n",
      "release_date            0\n",
      "revenue                 0\n",
      "runtime                 0\n",
      "adult                   0\n",
      "budget                  0\n",
      "original_language       0\n",
      "overview                0\n",
      "popularity              0\n",
      "poster_path             0\n",
      "tagline                 0\n",
      "genres                  0\n",
      "production_companies    0\n",
      "production_countries    0\n",
      "spoken_languages        0\n",
      "keywords                0\n",
      "dtype: int64\n"
     ]
    }
   ],
   "source": [
    "print(\"null values after filling cleaning : \",df.isnull().sum())"
   ]
  },
  {
   "cell_type": "code",
   "execution_count": 11,
   "id": "bb9d1ede-f54a-44d9-b2c3-208033fa11c2",
   "metadata": {},
   "outputs": [
    {
     "name": "stdout",
     "output_type": "stream",
     "text": [
      "<class 'pandas.core.frame.DataFrame'>\n",
      "Index: 915240 entries, 0 to 1058673\n",
      "Data columns (total 19 columns):\n",
      " #   Column                Non-Null Count   Dtype  \n",
      "---  ------                --------------   -----  \n",
      " 0   title                 915240 non-null  object \n",
      " 1   vote_average          915240 non-null  float64\n",
      " 2   vote_count            915240 non-null  int64  \n",
      " 3   status                915240 non-null  object \n",
      " 4   release_date          915240 non-null  object \n",
      " 5   revenue               915240 non-null  int64  \n",
      " 6   runtime               915240 non-null  int64  \n",
      " 7   adult                 915240 non-null  bool   \n",
      " 8   budget                915240 non-null  int64  \n",
      " 9   original_language     915240 non-null  object \n",
      " 10  overview              915240 non-null  object \n",
      " 11  popularity            915240 non-null  float64\n",
      " 12  poster_path           915240 non-null  object \n",
      " 13  tagline               915240 non-null  object \n",
      " 14  genres                915240 non-null  object \n",
      " 15  production_companies  915240 non-null  object \n",
      " 16  production_countries  915240 non-null  object \n",
      " 17  spoken_languages      915240 non-null  object \n",
      " 18  keywords              915240 non-null  object \n",
      "dtypes: bool(1), float64(2), int64(4), object(12)\n",
      "memory usage: 133.5+ MB\n"
     ]
    }
   ],
   "source": [
    "df.info()"
   ]
  },
  {
   "cell_type": "code",
   "execution_count": 12,
   "id": "1c9b1405-2be8-4ae3-98ce-5733fb200fa7",
   "metadata": {},
   "outputs": [
    {
     "data": {
      "text/html": [
       "<div>\n",
       "<style scoped>\n",
       "    .dataframe tbody tr th:only-of-type {\n",
       "        vertical-align: middle;\n",
       "    }\n",
       "\n",
       "    .dataframe tbody tr th {\n",
       "        vertical-align: top;\n",
       "    }\n",
       "\n",
       "    .dataframe thead th {\n",
       "        text-align: right;\n",
       "    }\n",
       "</style>\n",
       "<table border=\"1\" class=\"dataframe\">\n",
       "  <thead>\n",
       "    <tr style=\"text-align: right;\">\n",
       "      <th></th>\n",
       "      <th>title</th>\n",
       "      <th>vote_average</th>\n",
       "      <th>vote_count</th>\n",
       "      <th>status</th>\n",
       "      <th>release_date</th>\n",
       "      <th>revenue</th>\n",
       "      <th>runtime</th>\n",
       "      <th>adult</th>\n",
       "      <th>budget</th>\n",
       "      <th>original_language</th>\n",
       "      <th>overview</th>\n",
       "      <th>popularity</th>\n",
       "      <th>poster_path</th>\n",
       "      <th>tagline</th>\n",
       "      <th>genres</th>\n",
       "      <th>production_companies</th>\n",
       "      <th>production_countries</th>\n",
       "      <th>spoken_languages</th>\n",
       "      <th>keywords</th>\n",
       "    </tr>\n",
       "  </thead>\n",
       "  <tbody>\n",
       "    <tr>\n",
       "      <th>0</th>\n",
       "      <td>Inception</td>\n",
       "      <td>8.364</td>\n",
       "      <td>34495</td>\n",
       "      <td>Released</td>\n",
       "      <td>2010-07-15</td>\n",
       "      <td>825532764</td>\n",
       "      <td>148</td>\n",
       "      <td>False</td>\n",
       "      <td>160000000</td>\n",
       "      <td>en</td>\n",
       "      <td>Cobb, a skilled thief who commits corporate es...</td>\n",
       "      <td>83.952</td>\n",
       "      <td>/oYuLEt3zVCKq57qu2F8dT7NIa6f.jpg</td>\n",
       "      <td>Your mind is the scene of the crime.</td>\n",
       "      <td>Action, Science Fiction, Adventure</td>\n",
       "      <td>Legendary Pictures, Syncopy, Warner Bros. Pict...</td>\n",
       "      <td>United Kingdom, United States of America</td>\n",
       "      <td>English, French, Japanese, Swahili</td>\n",
       "      <td>rescue, mission, dream, airplane, paris, franc...</td>\n",
       "    </tr>\n",
       "    <tr>\n",
       "      <th>1</th>\n",
       "      <td>Interstellar</td>\n",
       "      <td>8.417</td>\n",
       "      <td>32571</td>\n",
       "      <td>Released</td>\n",
       "      <td>2014-11-05</td>\n",
       "      <td>701729206</td>\n",
       "      <td>169</td>\n",
       "      <td>False</td>\n",
       "      <td>165000000</td>\n",
       "      <td>en</td>\n",
       "      <td>The adventures of a group of explorers who mak...</td>\n",
       "      <td>140.241</td>\n",
       "      <td>/gEU2QniE6E77NI6lCU6MxlNBvIx.jpg</td>\n",
       "      <td>Mankind was born on Earth. It was never meant ...</td>\n",
       "      <td>Adventure, Drama, Science Fiction</td>\n",
       "      <td>Legendary Pictures, Syncopy, Lynda Obst Produc...</td>\n",
       "      <td>United Kingdom, United States of America</td>\n",
       "      <td>English</td>\n",
       "      <td>rescue, future, spacecraft, race against time,...</td>\n",
       "    </tr>\n",
       "    <tr>\n",
       "      <th>2</th>\n",
       "      <td>The Dark Knight</td>\n",
       "      <td>8.512</td>\n",
       "      <td>30619</td>\n",
       "      <td>Released</td>\n",
       "      <td>2008-07-16</td>\n",
       "      <td>1004558444</td>\n",
       "      <td>152</td>\n",
       "      <td>False</td>\n",
       "      <td>185000000</td>\n",
       "      <td>en</td>\n",
       "      <td>Batman raises the stakes in his war on crime. ...</td>\n",
       "      <td>130.643</td>\n",
       "      <td>/qJ2tW6WMUDux911r6m7haRef0WH.jpg</td>\n",
       "      <td>Welcome to a world without rules.</td>\n",
       "      <td>Drama, Action, Crime, Thriller</td>\n",
       "      <td>DC Comics, Legendary Pictures, Syncopy, Isobel...</td>\n",
       "      <td>United Kingdom, United States of America</td>\n",
       "      <td>English, Mandarin</td>\n",
       "      <td>joker, sadism, chaos, secret identity, crime f...</td>\n",
       "    </tr>\n",
       "    <tr>\n",
       "      <th>3</th>\n",
       "      <td>Avatar</td>\n",
       "      <td>7.573</td>\n",
       "      <td>29815</td>\n",
       "      <td>Released</td>\n",
       "      <td>2009-12-15</td>\n",
       "      <td>2923706026</td>\n",
       "      <td>162</td>\n",
       "      <td>False</td>\n",
       "      <td>237000000</td>\n",
       "      <td>en</td>\n",
       "      <td>In the 22nd century, a paraplegic Marine is di...</td>\n",
       "      <td>79.932</td>\n",
       "      <td>/kyeqWdyUXW608qlYkRqosgbbJyK.jpg</td>\n",
       "      <td>Enter the world of Pandora.</td>\n",
       "      <td>Action, Adventure, Fantasy, Science Fiction</td>\n",
       "      <td>Dune Entertainment, Lightstorm Entertainment, ...</td>\n",
       "      <td>United States of America, United Kingdom</td>\n",
       "      <td>English, Spanish</td>\n",
       "      <td>future, society, culture clash, space travel, ...</td>\n",
       "    </tr>\n",
       "    <tr>\n",
       "      <th>4</th>\n",
       "      <td>The Avengers</td>\n",
       "      <td>7.710</td>\n",
       "      <td>29166</td>\n",
       "      <td>Released</td>\n",
       "      <td>2012-04-25</td>\n",
       "      <td>1518815515</td>\n",
       "      <td>143</td>\n",
       "      <td>False</td>\n",
       "      <td>220000000</td>\n",
       "      <td>en</td>\n",
       "      <td>When an unexpected enemy emerges and threatens...</td>\n",
       "      <td>98.082</td>\n",
       "      <td>/RYMX2wcKCBAr24UyPD7xwmjaTn.jpg</td>\n",
       "      <td>Some assembly required.</td>\n",
       "      <td>Science Fiction, Action, Adventure</td>\n",
       "      <td>Marvel Studios</td>\n",
       "      <td>United States of America</td>\n",
       "      <td>English, Hindi, Russian</td>\n",
       "      <td>new york city, superhero, shield, based on com...</td>\n",
       "    </tr>\n",
       "    <tr>\n",
       "      <th>5</th>\n",
       "      <td>Deadpool</td>\n",
       "      <td>7.606</td>\n",
       "      <td>28894</td>\n",
       "      <td>Released</td>\n",
       "      <td>2016-02-09</td>\n",
       "      <td>783100000</td>\n",
       "      <td>108</td>\n",
       "      <td>False</td>\n",
       "      <td>58000000</td>\n",
       "      <td>en</td>\n",
       "      <td>The origin story of former Special Forces oper...</td>\n",
       "      <td>72.735</td>\n",
       "      <td>/zq8Cl3PNIDGU3iWNRoc5nEZ6pCe.jpg</td>\n",
       "      <td>Witness the beginning of a happy ending.</td>\n",
       "      <td>Action, Adventure, Comedy</td>\n",
       "      <td>20th Century Fox, The Donners' Company, Genre ...</td>\n",
       "      <td>United States of America</td>\n",
       "      <td>English</td>\n",
       "      <td>superhero, anti hero, mercenary, based on comi...</td>\n",
       "    </tr>\n",
       "    <tr>\n",
       "      <th>6</th>\n",
       "      <td>Avengers: Infinity War</td>\n",
       "      <td>8.255</td>\n",
       "      <td>27713</td>\n",
       "      <td>Released</td>\n",
       "      <td>2018-04-25</td>\n",
       "      <td>2052415039</td>\n",
       "      <td>149</td>\n",
       "      <td>False</td>\n",
       "      <td>300000000</td>\n",
       "      <td>en</td>\n",
       "      <td>As the Avengers and their allies have continue...</td>\n",
       "      <td>154.340</td>\n",
       "      <td>/7WsyChQLEftFiDOVTGkv3hFpyyt.jpg</td>\n",
       "      <td>An entire universe. Once and for all.</td>\n",
       "      <td>Adventure, Action, Science Fiction</td>\n",
       "      <td>Marvel Studios</td>\n",
       "      <td>United States of America</td>\n",
       "      <td>English, Xhosa</td>\n",
       "      <td>sacrifice, magic, superhero, based on comic, s...</td>\n",
       "    </tr>\n",
       "    <tr>\n",
       "      <th>7</th>\n",
       "      <td>Fight Club</td>\n",
       "      <td>8.438</td>\n",
       "      <td>27238</td>\n",
       "      <td>Released</td>\n",
       "      <td>1999-10-15</td>\n",
       "      <td>100853753</td>\n",
       "      <td>139</td>\n",
       "      <td>False</td>\n",
       "      <td>63000000</td>\n",
       "      <td>en</td>\n",
       "      <td>A ticking-time-bomb insomniac and a slippery s...</td>\n",
       "      <td>69.498</td>\n",
       "      <td>/pB8BM7pdSp6B6Ih7QZ4DrQ3PmJK.jpg</td>\n",
       "      <td>Mischief. Mayhem. Soap.</td>\n",
       "      <td>Drama</td>\n",
       "      <td>Regency Enterprises, Fox 2000 Pictures, Taurus...</td>\n",
       "      <td>United States of America</td>\n",
       "      <td>English</td>\n",
       "      <td>dual identity, rage and hate, based on novel o...</td>\n",
       "    </tr>\n",
       "    <tr>\n",
       "      <th>8</th>\n",
       "      <td>Guardians of the Galaxy</td>\n",
       "      <td>7.906</td>\n",
       "      <td>26638</td>\n",
       "      <td>Released</td>\n",
       "      <td>2014-07-30</td>\n",
       "      <td>772776600</td>\n",
       "      <td>121</td>\n",
       "      <td>False</td>\n",
       "      <td>170000000</td>\n",
       "      <td>en</td>\n",
       "      <td>Light years from Earth, 26 years after being a...</td>\n",
       "      <td>33.255</td>\n",
       "      <td>/r7vmZjiyZw9rpJMQJdXpjgiCOk9.jpg</td>\n",
       "      <td>All heroes start somewhere.</td>\n",
       "      <td>Action, Science Fiction, Adventure</td>\n",
       "      <td>Marvel Studios</td>\n",
       "      <td>United States of America</td>\n",
       "      <td>English</td>\n",
       "      <td>spacecraft, based on comic, space, orphan, adv...</td>\n",
       "    </tr>\n",
       "    <tr>\n",
       "      <th>9</th>\n",
       "      <td>Pulp Fiction</td>\n",
       "      <td>8.488</td>\n",
       "      <td>25893</td>\n",
       "      <td>Released</td>\n",
       "      <td>1994-09-10</td>\n",
       "      <td>213900000</td>\n",
       "      <td>154</td>\n",
       "      <td>False</td>\n",
       "      <td>8500000</td>\n",
       "      <td>en</td>\n",
       "      <td>A burger-loving hit man, his philosophical par...</td>\n",
       "      <td>74.862</td>\n",
       "      <td>/d5iIlFn5s0ImszYzBPb8JPIfbXD.jpg</td>\n",
       "      <td>Just because you are a character doesn't mean ...</td>\n",
       "      <td>Thriller, Crime</td>\n",
       "      <td>Miramax, A Band Apart, Jersey Films</td>\n",
       "      <td>United States of America</td>\n",
       "      <td>English, Spanish, French</td>\n",
       "      <td>drug dealer, boxer, massage, stolen money, bri...</td>\n",
       "    </tr>\n",
       "  </tbody>\n",
       "</table>\n",
       "</div>"
      ],
      "text/plain": [
       "                     title  vote_average  vote_count    status release_date  \\\n",
       "0                Inception         8.364       34495  Released   2010-07-15   \n",
       "1             Interstellar         8.417       32571  Released   2014-11-05   \n",
       "2          The Dark Knight         8.512       30619  Released   2008-07-16   \n",
       "3                   Avatar         7.573       29815  Released   2009-12-15   \n",
       "4             The Avengers         7.710       29166  Released   2012-04-25   \n",
       "5                 Deadpool         7.606       28894  Released   2016-02-09   \n",
       "6   Avengers: Infinity War         8.255       27713  Released   2018-04-25   \n",
       "7               Fight Club         8.438       27238  Released   1999-10-15   \n",
       "8  Guardians of the Galaxy         7.906       26638  Released   2014-07-30   \n",
       "9             Pulp Fiction         8.488       25893  Released   1994-09-10   \n",
       "\n",
       "      revenue  runtime  adult     budget original_language  \\\n",
       "0   825532764      148  False  160000000                en   \n",
       "1   701729206      169  False  165000000                en   \n",
       "2  1004558444      152  False  185000000                en   \n",
       "3  2923706026      162  False  237000000                en   \n",
       "4  1518815515      143  False  220000000                en   \n",
       "5   783100000      108  False   58000000                en   \n",
       "6  2052415039      149  False  300000000                en   \n",
       "7   100853753      139  False   63000000                en   \n",
       "8   772776600      121  False  170000000                en   \n",
       "9   213900000      154  False    8500000                en   \n",
       "\n",
       "                                            overview  popularity  \\\n",
       "0  Cobb, a skilled thief who commits corporate es...      83.952   \n",
       "1  The adventures of a group of explorers who mak...     140.241   \n",
       "2  Batman raises the stakes in his war on crime. ...     130.643   \n",
       "3  In the 22nd century, a paraplegic Marine is di...      79.932   \n",
       "4  When an unexpected enemy emerges and threatens...      98.082   \n",
       "5  The origin story of former Special Forces oper...      72.735   \n",
       "6  As the Avengers and their allies have continue...     154.340   \n",
       "7  A ticking-time-bomb insomniac and a slippery s...      69.498   \n",
       "8  Light years from Earth, 26 years after being a...      33.255   \n",
       "9  A burger-loving hit man, his philosophical par...      74.862   \n",
       "\n",
       "                        poster_path  \\\n",
       "0  /oYuLEt3zVCKq57qu2F8dT7NIa6f.jpg   \n",
       "1  /gEU2QniE6E77NI6lCU6MxlNBvIx.jpg   \n",
       "2  /qJ2tW6WMUDux911r6m7haRef0WH.jpg   \n",
       "3  /kyeqWdyUXW608qlYkRqosgbbJyK.jpg   \n",
       "4   /RYMX2wcKCBAr24UyPD7xwmjaTn.jpg   \n",
       "5  /zq8Cl3PNIDGU3iWNRoc5nEZ6pCe.jpg   \n",
       "6  /7WsyChQLEftFiDOVTGkv3hFpyyt.jpg   \n",
       "7  /pB8BM7pdSp6B6Ih7QZ4DrQ3PmJK.jpg   \n",
       "8  /r7vmZjiyZw9rpJMQJdXpjgiCOk9.jpg   \n",
       "9  /d5iIlFn5s0ImszYzBPb8JPIfbXD.jpg   \n",
       "\n",
       "                                             tagline  \\\n",
       "0               Your mind is the scene of the crime.   \n",
       "1  Mankind was born on Earth. It was never meant ...   \n",
       "2                  Welcome to a world without rules.   \n",
       "3                        Enter the world of Pandora.   \n",
       "4                            Some assembly required.   \n",
       "5           Witness the beginning of a happy ending.   \n",
       "6              An entire universe. Once and for all.   \n",
       "7                            Mischief. Mayhem. Soap.   \n",
       "8                        All heroes start somewhere.   \n",
       "9  Just because you are a character doesn't mean ...   \n",
       "\n",
       "                                        genres  \\\n",
       "0           Action, Science Fiction, Adventure   \n",
       "1            Adventure, Drama, Science Fiction   \n",
       "2               Drama, Action, Crime, Thriller   \n",
       "3  Action, Adventure, Fantasy, Science Fiction   \n",
       "4           Science Fiction, Action, Adventure   \n",
       "5                    Action, Adventure, Comedy   \n",
       "6           Adventure, Action, Science Fiction   \n",
       "7                                        Drama   \n",
       "8           Action, Science Fiction, Adventure   \n",
       "9                              Thriller, Crime   \n",
       "\n",
       "                                production_companies  \\\n",
       "0  Legendary Pictures, Syncopy, Warner Bros. Pict...   \n",
       "1  Legendary Pictures, Syncopy, Lynda Obst Produc...   \n",
       "2  DC Comics, Legendary Pictures, Syncopy, Isobel...   \n",
       "3  Dune Entertainment, Lightstorm Entertainment, ...   \n",
       "4                                     Marvel Studios   \n",
       "5  20th Century Fox, The Donners' Company, Genre ...   \n",
       "6                                     Marvel Studios   \n",
       "7  Regency Enterprises, Fox 2000 Pictures, Taurus...   \n",
       "8                                     Marvel Studios   \n",
       "9                Miramax, A Band Apart, Jersey Films   \n",
       "\n",
       "                       production_countries  \\\n",
       "0  United Kingdom, United States of America   \n",
       "1  United Kingdom, United States of America   \n",
       "2  United Kingdom, United States of America   \n",
       "3  United States of America, United Kingdom   \n",
       "4                  United States of America   \n",
       "5                  United States of America   \n",
       "6                  United States of America   \n",
       "7                  United States of America   \n",
       "8                  United States of America   \n",
       "9                  United States of America   \n",
       "\n",
       "                     spoken_languages  \\\n",
       "0  English, French, Japanese, Swahili   \n",
       "1                             English   \n",
       "2                   English, Mandarin   \n",
       "3                    English, Spanish   \n",
       "4             English, Hindi, Russian   \n",
       "5                             English   \n",
       "6                      English, Xhosa   \n",
       "7                             English   \n",
       "8                             English   \n",
       "9            English, Spanish, French   \n",
       "\n",
       "                                            keywords  \n",
       "0  rescue, mission, dream, airplane, paris, franc...  \n",
       "1  rescue, future, spacecraft, race against time,...  \n",
       "2  joker, sadism, chaos, secret identity, crime f...  \n",
       "3  future, society, culture clash, space travel, ...  \n",
       "4  new york city, superhero, shield, based on com...  \n",
       "5  superhero, anti hero, mercenary, based on comi...  \n",
       "6  sacrifice, magic, superhero, based on comic, s...  \n",
       "7  dual identity, rage and hate, based on novel o...  \n",
       "8  spacecraft, based on comic, space, orphan, adv...  \n",
       "9  drug dealer, boxer, massage, stolen money, bri...  "
      ]
     },
     "execution_count": 12,
     "metadata": {},
     "output_type": "execute_result"
    }
   ],
   "source": [
    "df.head(10)"
   ]
  },
  {
   "cell_type": "code",
   "execution_count": 13,
   "id": "7f4261bf-02af-4219-b9ee-2b21373862e4",
   "metadata": {},
   "outputs": [
    {
     "name": "stdout",
     "output_type": "stream",
     "text": [
      "number of duplicates before : 170\n",
      "number of duplicates after :  0\n"
     ]
    }
   ],
   "source": [
    "print(\"number of duplicates before :\",df.duplicated().sum() )\n",
    "df.drop_duplicates(inplace = True)\n",
    "print(\"number of duplicates after : \",df.duplicated().sum())"
   ]
  },
  {
   "cell_type": "markdown",
   "id": "f36f9a17-19ae-4867-84c3-faf800177290",
   "metadata": {},
   "source": [
    "# feature engineering and encoding\n",
    "## Extracting additional features from the initial one(release_year) \n"
   ]
  },
  {
   "cell_type": "code",
   "execution_count": 14,
   "id": "74380a79-a9ba-47e7-a648-281d68a38530",
   "metadata": {},
   "outputs": [],
   "source": [
    "df['release_date'] = pd.to_datetime(df['release_date'])\n",
    "df['release_year'] = df['release_date'].dt.year.astype(int)\n",
    "df['release_month'] = df['release_date'].dt.month.astype(int)\n",
    "df['release_day'] = df['release_date'].dt.day.astype(int)\n",
    "df.drop('release_date', axis=1, inplace=True)\n"
   ]
  },
  {
   "cell_type": "code",
   "execution_count": 15,
   "id": "ea2a2165-a9f8-42a6-9a3b-fe472457530d",
   "metadata": {},
   "outputs": [],
   "source": [
    "df_encoded=df.copy()"
   ]
  },
  {
   "cell_type": "markdown",
   "id": "2915e76a-ddcf-4865-aff2-6639dccbade2",
   "metadata": {},
   "source": [
    "## dropping unnecessary columns "
   ]
  },
  {
   "cell_type": "code",
   "execution_count": 16,
   "id": "51606c37-178b-43f4-8331-390e16d092d6",
   "metadata": {},
   "outputs": [],
   "source": [
    "df_encoded.drop(['release_month','release_day','keywords','overview','spoken_languages','poster_path','tagline'],axis = 1 ,inplace = True)"
   ]
  },
  {
   "cell_type": "markdown",
   "id": "5f08b555-d816-4605-8788-6d79101a4bd2",
   "metadata": {},
   "source": [
    "## splitting the genre column ( because it has comma separated values) and then encoding them"
   ]
  },
  {
   "cell_type": "code",
   "execution_count": 17,
   "id": "3bd215cb-cb31-4f90-86fe-571cbafb8181",
   "metadata": {},
   "outputs": [
    {
     "name": "stdout",
     "output_type": "stream",
     "text": [
      "0                   Action, Science Fiction, Adventure\n",
      "1                    Adventure, Drama, Science Fiction\n",
      "2                       Drama, Action, Crime, Thriller\n",
      "3          Action, Adventure, Fantasy, Science Fiction\n",
      "4                   Science Fiction, Action, Adventure\n",
      "                              ...                     \n",
      "1058667                                          Drama\n",
      "1058668                                    Documentary\n",
      "1058669                                        unknown\n",
      "1058671                                    Documentary\n",
      "1058673                                        unknown\n",
      "Name: genres, Length: 915070, dtype: object\n"
     ]
    }
   ],
   "source": [
    "print(df_encoded['genres'])"
   ]
  },
  {
   "cell_type": "code",
   "execution_count": 18,
   "id": "444cea19-5fa5-4e0c-8d6e-078371bfc1d8",
   "metadata": {},
   "outputs": [],
   "source": [
    "df_encoded['genres'] = df_encoded['genres'].str.split(', ')\n",
    "unique_genres = set(genre for sublist in df_encoded['genres'] for genre in sublist)\n",
    "\n",
    "for genre in unique_genres:\n",
    "    df_encoded[genre] = df_encoded['genres'].apply(lambda x: 1 if genre in x else 0)\n",
    "\n",
    "df_encoded.drop('genres', axis=1, inplace=True)"
   ]
  },
  {
   "cell_type": "markdown",
   "id": "c308f9d0-e9fb-410c-bed4-474aeda7d640",
   "metadata": {},
   "source": [
    "### encoding the adult column with 1 and 0"
   ]
  },
  {
   "cell_type": "code",
   "execution_count": 19,
   "id": "707ec0e2-7df3-406d-9b5a-de9f95cb692f",
   "metadata": {},
   "outputs": [
    {
     "data": {
      "text/plain": [
       "adult\n",
       "0    825843\n",
       "1     89227\n",
       "Name: count, dtype: int64"
      ]
     },
     "execution_count": 19,
     "metadata": {},
     "output_type": "execute_result"
    }
   ],
   "source": [
    "df_encoded['adult'] = df_encoded['adult'].astype(int)\n",
    "df_encoded['adult'].value_counts()  "
   ]
  },
  {
   "cell_type": "markdown",
   "id": "6622bf57-a398-4e04-a57f-44a483001d81",
   "metadata": {},
   "source": [
    "## encoding the status"
   ]
  },
  {
   "cell_type": "code",
   "execution_count": 20,
   "id": "a9f23fbe-8c8a-47ac-8461-2d892a235ada",
   "metadata": {},
   "outputs": [],
   "source": [
    "status_mapping = {\n",
    "    'Planned': 1,\n",
    "    'In Production': 2,\n",
    "    'Post Production': 3,\n",
    "    'Released': 4,\n",
    "    'Rumored': 5,\n",
    "    'Canceled': 6\n",
    "}\n",
    "\n",
    "df_encoded['status'] = df_encoded['status'].map(status_mapping)\n"
   ]
  },
  {
   "cell_type": "markdown",
   "id": "0e8a6dfd-f72a-44f4-937c-b4bdbd6d8952",
   "metadata": {},
   "source": [
    "# frequency encoding the original language column\n"
   ]
  },
  {
   "cell_type": "code",
   "execution_count": 21,
   "id": "c449321a-30cb-4096-aff8-90cda93bf762",
   "metadata": {},
   "outputs": [],
   "source": [
    "language_counts = df_encoded['original_language'].value_counts(normalize=True)\n",
    "df_encoded['original_language'] = df_encoded['original_language'].map(language_counts)\n"
   ]
  },
  {
   "cell_type": "markdown",
   "id": "1b0db799-cbb3-4322-9711-98e7a2df0918",
   "metadata": {},
   "source": [
    "## Target encoding the title column"
   ]
  },
  {
   "cell_type": "code",
   "execution_count": 22,
   "id": "9892e672-1eab-4ce6-a2c0-6884bcd2121f",
   "metadata": {},
   "outputs": [
    {
     "data": {
      "text/plain": [
       "0          8.364\n",
       "1          8.417\n",
       "2          8.512\n",
       "3          5.154\n",
       "4          7.363\n",
       "           ...  \n",
       "1058667    0.000\n",
       "1058668    0.000\n",
       "1058669    0.000\n",
       "1058671    0.000\n",
       "1058673    0.000\n",
       "Name: title, Length: 915070, dtype: float64"
      ]
     },
     "execution_count": 22,
     "metadata": {},
     "output_type": "execute_result"
    }
   ],
   "source": [
    "title_means = df_encoded.groupby('title')['vote_average'].mean()\n",
    "df_encoded['title'] = df_encoded['title'].map(title_means)\n",
    " \n",
    "df_encoded['title']"
   ]
  },
  {
   "cell_type": "markdown",
   "id": "93bf1643-b32a-4127-ad94-5c7beec10574",
   "metadata": {},
   "source": [
    "## encoding the production countries and comapanies"
   ]
  },
  {
   "cell_type": "code",
   "execution_count": 23,
   "id": "1af63d88-70d9-40e9-8029-ec112516a982",
   "metadata": {},
   "outputs": [],
   "source": [
    "prod_comp_means = df_encoded.groupby('production_companies')['revenue'].mean()\n",
    "df_encoded['production_companies'] = df_encoded['production_companies'].map(prod_comp_means) "
   ]
  },
  {
   "cell_type": "code",
   "execution_count": 24,
   "id": "7df7a0d4-baa3-4703-bef1-60efc36a95cf",
   "metadata": {},
   "outputs": [],
   "source": [
    "prod_cont_means = df_encoded.groupby('production_countries')['revenue'].mean()\n",
    "\n",
    "df_encoded['production_countries'] = df_encoded['production_countries'].map(prod_cont_means)\n",
    " "
   ]
  },
  {
   "cell_type": "markdown",
   "id": "f1eb0192-47cc-4cf9-87b4-69c3218f7ac7",
   "metadata": {},
   "source": [
    "# splitting my data into features and target variables"
   ]
  },
  {
   "cell_type": "code",
   "execution_count": 25,
   "id": "27c9eb30-bc41-495a-9877-f8ed3dd00f31",
   "metadata": {},
   "outputs": [],
   "source": [
    "from sklearn.model_selection import train_test_split\n",
    "\n",
    "features = df_encoded.drop(['title'],axis = 'columns')\n",
    "target=df_encoded['title']"
   ]
  },
  {
   "cell_type": "markdown",
   "id": "b2c5b25b-516e-4720-a123-67a340de4785",
   "metadata": {},
   "source": [
    "# scaling the encoded data"
   ]
  },
  {
   "cell_type": "code",
   "execution_count": 26,
   "id": "e0d76ba6-b9a1-418f-8f62-5dc6ad9213bb",
   "metadata": {},
   "outputs": [],
   "source": [
    "from sklearn.preprocessing import StandardScaler\n",
    "from sklearn.model_selection import train_test_split\n",
    "\n",
    "scaler = StandardScaler()\n",
    "\n",
    "df_encoded_scaled=scaler.fit_transform(features)"
   ]
  },
  {
   "cell_type": "markdown",
   "id": "59d88421-7c14-468f-9f17-0ddfdedbfa8f",
   "metadata": {},
   "source": [
    "# The beginnning of my model ( KNN using cosine similarity )"
   ]
  },
  {
   "cell_type": "code",
   "execution_count": 27,
   "id": "efe5555d-18bb-4d8f-ba75-82f1df13879c",
   "metadata": {},
   "outputs": [
    {
     "data": {
      "text/html": [
       "<style>#sk-container-id-1 {color: black;background-color: white;}#sk-container-id-1 pre{padding: 0;}#sk-container-id-1 div.sk-toggleable {background-color: white;}#sk-container-id-1 label.sk-toggleable__label {cursor: pointer;display: block;width: 100%;margin-bottom: 0;padding: 0.3em;box-sizing: border-box;text-align: center;}#sk-container-id-1 label.sk-toggleable__label-arrow:before {content: \"▸\";float: left;margin-right: 0.25em;color: #696969;}#sk-container-id-1 label.sk-toggleable__label-arrow:hover:before {color: black;}#sk-container-id-1 div.sk-estimator:hover label.sk-toggleable__label-arrow:before {color: black;}#sk-container-id-1 div.sk-toggleable__content {max-height: 0;max-width: 0;overflow: hidden;text-align: left;background-color: #f0f8ff;}#sk-container-id-1 div.sk-toggleable__content pre {margin: 0.2em;color: black;border-radius: 0.25em;background-color: #f0f8ff;}#sk-container-id-1 input.sk-toggleable__control:checked~div.sk-toggleable__content {max-height: 200px;max-width: 100%;overflow: auto;}#sk-container-id-1 input.sk-toggleable__control:checked~label.sk-toggleable__label-arrow:before {content: \"▾\";}#sk-container-id-1 div.sk-estimator input.sk-toggleable__control:checked~label.sk-toggleable__label {background-color: #d4ebff;}#sk-container-id-1 div.sk-label input.sk-toggleable__control:checked~label.sk-toggleable__label {background-color: #d4ebff;}#sk-container-id-1 input.sk-hidden--visually {border: 0;clip: rect(1px 1px 1px 1px);clip: rect(1px, 1px, 1px, 1px);height: 1px;margin: -1px;overflow: hidden;padding: 0;position: absolute;width: 1px;}#sk-container-id-1 div.sk-estimator {font-family: monospace;background-color: #f0f8ff;border: 1px dotted black;border-radius: 0.25em;box-sizing: border-box;margin-bottom: 0.5em;}#sk-container-id-1 div.sk-estimator:hover {background-color: #d4ebff;}#sk-container-id-1 div.sk-parallel-item::after {content: \"\";width: 100%;border-bottom: 1px solid gray;flex-grow: 1;}#sk-container-id-1 div.sk-label:hover label.sk-toggleable__label {background-color: #d4ebff;}#sk-container-id-1 div.sk-serial::before {content: \"\";position: absolute;border-left: 1px solid gray;box-sizing: border-box;top: 0;bottom: 0;left: 50%;z-index: 0;}#sk-container-id-1 div.sk-serial {display: flex;flex-direction: column;align-items: center;background-color: white;padding-right: 0.2em;padding-left: 0.2em;position: relative;}#sk-container-id-1 div.sk-item {position: relative;z-index: 1;}#sk-container-id-1 div.sk-parallel {display: flex;align-items: stretch;justify-content: center;background-color: white;position: relative;}#sk-container-id-1 div.sk-item::before, #sk-container-id-1 div.sk-parallel-item::before {content: \"\";position: absolute;border-left: 1px solid gray;box-sizing: border-box;top: 0;bottom: 0;left: 50%;z-index: -1;}#sk-container-id-1 div.sk-parallel-item {display: flex;flex-direction: column;z-index: 1;position: relative;background-color: white;}#sk-container-id-1 div.sk-parallel-item:first-child::after {align-self: flex-end;width: 50%;}#sk-container-id-1 div.sk-parallel-item:last-child::after {align-self: flex-start;width: 50%;}#sk-container-id-1 div.sk-parallel-item:only-child::after {width: 0;}#sk-container-id-1 div.sk-dashed-wrapped {border: 1px dashed gray;margin: 0 0.4em 0.5em 0.4em;box-sizing: border-box;padding-bottom: 0.4em;background-color: white;}#sk-container-id-1 div.sk-label label {font-family: monospace;font-weight: bold;display: inline-block;line-height: 1.2em;}#sk-container-id-1 div.sk-label-container {text-align: center;}#sk-container-id-1 div.sk-container {/* jupyter's `normalize.less` sets `[hidden] { display: none; }` but bootstrap.min.css set `[hidden] { display: none !important; }` so we also need the `!important` here to be able to override the default hidden behavior on the sphinx rendered scikit-learn.org. See: https://github.com/scikit-learn/scikit-learn/issues/21755 */display: inline-block !important;position: relative;}#sk-container-id-1 div.sk-text-repr-fallback {display: none;}</style><div id=\"sk-container-id-1\" class=\"sk-top-container\"><div class=\"sk-text-repr-fallback\"><pre>NearestNeighbors(algorithm=&#x27;brute&#x27;, metric=&#x27;cosine&#x27;)</pre><b>In a Jupyter environment, please rerun this cell to show the HTML representation or trust the notebook. <br />On GitHub, the HTML representation is unable to render, please try loading this page with nbviewer.org.</b></div><div class=\"sk-container\" hidden><div class=\"sk-item\"><div class=\"sk-estimator sk-toggleable\"><input class=\"sk-toggleable__control sk-hidden--visually\" id=\"sk-estimator-id-1\" type=\"checkbox\" checked><label for=\"sk-estimator-id-1\" class=\"sk-toggleable__label sk-toggleable__label-arrow\">NearestNeighbors</label><div class=\"sk-toggleable__content\"><pre>NearestNeighbors(algorithm=&#x27;brute&#x27;, metric=&#x27;cosine&#x27;)</pre></div></div></div></div></div>"
      ],
      "text/plain": [
       "NearestNeighbors(algorithm='brute', metric='cosine')"
      ]
     },
     "execution_count": 27,
     "metadata": {},
     "output_type": "execute_result"
    }
   ],
   "source": [
    "from sklearn.neighbors import NearestNeighbors\n",
    "\n",
    "knn = NearestNeighbors(metric='cosine', algorithm='brute')\n",
    "\n",
    "knn.fit(df_encoded_scaled)  "
   ]
  },
  {
   "cell_type": "markdown",
   "id": "6e596c59-b3eb-4a60-b2b1-01adae2c83ef",
   "metadata": {},
   "source": [
    "## first part of the project and the main goal which is recommending similar movies to the one you like."
   ]
  },
  {
   "cell_type": "code",
   "execution_count": 28,
   "id": "6e3f5d06-38b1-4302-95e5-0d48a4fb3f50",
   "metadata": {},
   "outputs": [
    {
     "name": "stdout",
     "output_type": "stream",
     "text": [
      "Input Movie: Interstellar\n",
      "Overview: The adventures of a group of explorers who make use of a newly discovered wormhole to surpass the limitations on human space travel and conquer the vast distances involved in an interstellar voyage.\n",
      "\n",
      "Tagline: Mankind was born on Earth. It was never meant to die here.\n"
     ]
    },
    {
     "data": {
      "text/html": [
       "<img src=\"https://image.tmdb.org/t/p/original/gEU2QniE6E77NI6lCU6MxlNBvIx.jpg\" width=\"200\"/>"
      ],
      "text/plain": [
       "<IPython.core.display.Image object>"
      ]
     },
     "metadata": {},
     "output_type": "display_data"
    },
    {
     "name": "stdout",
     "output_type": "stream",
     "text": [
      "\n",
      "Recommended Movies:\n",
      "\n",
      "Title: Inception\n",
      "Overview: Cobb, a skilled thief who commits corporate espionage by infiltrating the subconscious of his targets is offered a chance to regain his old life as payment for a task considered to be impossible: \"inception\", the implantation of another person's idea into a target's subconscious.\n",
      "Tagline: Your mind is the scene of the crime.\n"
     ]
    },
    {
     "data": {
      "text/html": [
       "<img src=\"https://image.tmdb.org/t/p/original/oYuLEt3zVCKq57qu2F8dT7NIa6f.jpg\" width=\"200\"/>"
      ],
      "text/plain": [
       "<IPython.core.display.Image object>"
      ]
     },
     "metadata": {},
     "output_type": "display_data"
    },
    {
     "name": "stdout",
     "output_type": "stream",
     "text": [
      "\n",
      "\n",
      "Title: Iron Man\n",
      "Overview: After being held captive in an Afghan cave, billionaire engineer Tony Stark creates a unique weaponized suit of armor to fight evil.\n",
      "Tagline: Heroes aren't born. They're built.\n"
     ]
    },
    {
     "data": {
      "text/html": [
       "<img src=\"https://image.tmdb.org/t/p/original/78lPtwv72eTNqFW9COBYI0dWDJa.jpg\" width=\"200\"/>"
      ],
      "text/plain": [
       "<IPython.core.display.Image object>"
      ]
     },
     "metadata": {},
     "output_type": "display_data"
    },
    {
     "name": "stdout",
     "output_type": "stream",
     "text": [
      "\n",
      "\n",
      "Title: The Social Network\n",
      "Overview: The tale of a new breed of cultural insurgent: a punk genius who sparked a revolution and changed the face of human interaction for a generation, and perhaps forever.\n",
      "Tagline: You don't get to 500 million friends without making a few enemies.\n"
     ]
    },
    {
     "data": {
      "text/html": [
       "<img src=\"https://image.tmdb.org/t/p/original/n0ybibhJtQ5icDqTp8eRytcIHJx.jpg\" width=\"200\"/>"
      ],
      "text/plain": [
       "<IPython.core.display.Image object>"
      ]
     },
     "metadata": {},
     "output_type": "display_data"
    },
    {
     "name": "stdout",
     "output_type": "stream",
     "text": [
      "\n",
      "\n",
      "Title: The Wolf of Wall Street\n",
      "Overview: A New York stockbroker refuses to cooperate in a large securities fraud case involving corruption on Wall Street, corporate banking world and mob infiltration. Based on Jordan Belfort's autobiography.\n",
      "Tagline: Earn. Spend. Party.\n"
     ]
    },
    {
     "data": {
      "text/html": [
       "<img src=\"https://image.tmdb.org/t/p/original/34m2tygAYBGqA9MXKhRDtzYd4MR.jpg\" width=\"200\"/>"
      ],
      "text/plain": [
       "<IPython.core.display.Image object>"
      ]
     },
     "metadata": {},
     "output_type": "display_data"
    },
    {
     "name": "stdout",
     "output_type": "stream",
     "text": [
      "\n",
      "\n",
      "Title: Gladiator\n",
      "Overview: In the year 180, the death of emperor Marcus Aurelius throws the Roman Empire into chaos.  Maximus is one of the Roman army's most capable and trusted generals and a key advisor to the emperor.  As Marcus' devious son Commodus ascends to the throne, Maximus is set to be executed.  He escapes, but is captured by slave traders.  Renamed Spaniard and forced to become a gladiator, Maximus must battle to the death with other men for the amusement of paying audiences.\n",
      "Tagline: A hero will rise.\n"
     ]
    },
    {
     "data": {
      "text/html": [
       "<img src=\"https://image.tmdb.org/t/p/original/ty8TGRuvJLPUmAR1H1nRIsgwvim.jpg\" width=\"200\"/>"
      ],
      "text/plain": [
       "<IPython.core.display.Image object>"
      ]
     },
     "metadata": {},
     "output_type": "display_data"
    },
    {
     "name": "stdout",
     "output_type": "stream",
     "text": [
      "\n",
      "\n",
      "Title: Captain America: The First Avenger\n",
      "Overview: During World War II, Steve Rogers is a sickly man from Brooklyn who's transformed into super-soldier Captain America to aid in the war effort. Rogers must stop the Red Skull – Adolf Hitler's ruthless head of weaponry, and the leader of an organization that intends to use a mysterious device of untold powers for world domination.\n",
      "Tagline: When patriots become heroes\n"
     ]
    },
    {
     "data": {
      "text/html": [
       "<img src=\"https://image.tmdb.org/t/p/original/vSNxAJTlD0r02V9sPYpOjqDZXUK.jpg\" width=\"200\"/>"
      ],
      "text/plain": [
       "<IPython.core.display.Image object>"
      ]
     },
     "metadata": {},
     "output_type": "display_data"
    },
    {
     "name": "stdout",
     "output_type": "stream",
     "text": [
      "\n",
      "\n",
      "Title: The Matrix\n",
      "Overview: Set in the 22nd century, The Matrix tells the story of a computer hacker who joins a group of underground insurgents fighting the vast and powerful computers who now rule the earth.\n",
      "Tagline: Welcome to the Real World.\n"
     ]
    },
    {
     "data": {
      "text/html": [
       "<img src=\"https://image.tmdb.org/t/p/original/f89U3ADr1oiB1s9GkdPOEpXUk5H.jpg\" width=\"200\"/>"
      ],
      "text/plain": [
       "<IPython.core.display.Image object>"
      ]
     },
     "metadata": {},
     "output_type": "display_data"
    },
    {
     "name": "stdout",
     "output_type": "stream",
     "text": [
      "\n",
      "\n",
      "Title: Ant-Man\n",
      "Overview: Armed with the astonishing ability to shrink in scale but increase in strength, master thief Scott Lang must embrace his inner-hero and help his mentor, Doctor Hank Pym, protect the secret behind his spectacular Ant-Man suit from a new generation of towering threats. Against seemingly insurmountable obstacles, Pym and Lang must plan and pull off a heist that will save the world.\n",
      "Tagline: Heroes don't get any bigger.\n"
     ]
    },
    {
     "data": {
      "text/html": [
       "<img src=\"https://image.tmdb.org/t/p/original/8YxOIPrabqkQCOKKbuxaz9IcqhO.jpg\" width=\"200\"/>"
      ],
      "text/plain": [
       "<IPython.core.display.Image object>"
      ]
     },
     "metadata": {},
     "output_type": "display_data"
    },
    {
     "name": "stdout",
     "output_type": "stream",
     "text": [
      "\n",
      "\n",
      "Title: Million Dollar Baby\n",
      "Overview: Despondent over a painful estrangement from his daughter, trainer Frankie Dunn isn't prepared for boxer Maggie Fitzgerald to enter his life. But Maggie's determined to go pro and to convince Dunn and his cohort to help her.\n",
      "Tagline: Beyond his silence, there is a past. Beyond her dreams, there is a feeling. Beyond hope, there is a memory. Beyond their journey, there is a love.\n"
     ]
    },
    {
     "data": {
      "text/html": [
       "<img src=\"https://image.tmdb.org/t/p/original/2ti3l1OeB8G94yyqfAI7nmMZUbA.jpg\" width=\"200\"/>"
      ],
      "text/plain": [
       "<IPython.core.display.Image object>"
      ]
     },
     "metadata": {},
     "output_type": "display_data"
    },
    {
     "name": "stdout",
     "output_type": "stream",
     "text": [
      "\n",
      "\n",
      "Title: Now You See Me\n",
      "Overview: An FBI agent and an Interpol detective track a team of illusionists who pull off bank heists during their performances and reward their audiences with the money.\n",
      "Tagline: 4 amazing magicians. 3 impossible heists. 1 billion dollars. This is no illusion.\n"
     ]
    },
    {
     "data": {
      "text/html": [
       "<img src=\"https://image.tmdb.org/t/p/original/tWsNYbrqy1p1w6K9zRk0mSchztT.jpg\" width=\"200\"/>"
      ],
      "text/plain": [
       "<IPython.core.display.Image object>"
      ]
     },
     "metadata": {},
     "output_type": "display_data"
    },
    {
     "name": "stdout",
     "output_type": "stream",
     "text": [
      "\n",
      "\n",
      "Title: Catch Me If You Can\n",
      "Overview: A true story about Frank Abagnale Jr. who, before his 19th birthday, successfully conned millions of dollars worth of checks as a Pan Am pilot, doctor, and legal prosecutor. An FBI agent makes it his mission to put him behind bars. But Frank not only eludes capture, he revels in the pursuit.\n",
      "Tagline: The true story of a real fake.\n"
     ]
    },
    {
     "data": {
      "text/html": [
       "<img src=\"https://image.tmdb.org/t/p/original/ctjEj2xM32OvBXCq8zAdK3ZrsAj.jpg\" width=\"200\"/>"
      ],
      "text/plain": [
       "<IPython.core.display.Image object>"
      ]
     },
     "metadata": {},
     "output_type": "display_data"
    },
    {
     "name": "stdout",
     "output_type": "stream",
     "text": [
      "\n",
      "\n",
      "Title: The Truman Show\n",
      "Overview: Truman Burbank is the star of The Truman Show, a 24-hour-a-day reality TV show that broadcasts every aspect of his life without his knowledge. His entire life has been an unending soap opera for consumption by the rest of the world. And everyone he knows, including his wife and his best friend, is really an actor, paid to be part of his life.\n",
      "Tagline: On the air. Unaware.\n"
     ]
    },
    {
     "data": {
      "text/html": [
       "<img src=\"https://image.tmdb.org/t/p/original/vuza0WqY239yBXOadKlGwJsZJFE.jpg\" width=\"200\"/>"
      ],
      "text/plain": [
       "<IPython.core.display.Image object>"
      ]
     },
     "metadata": {},
     "output_type": "display_data"
    },
    {
     "name": "stdout",
     "output_type": "stream",
     "text": [
      "\n",
      "\n",
      "Title: Kingsman: The Secret Service\n",
      "Overview: The story of a super-secret spy organization that recruits an unrefined but promising street kid into the agency's ultra-competitive training program just as a global threat emerges from a twisted tech genius.\n",
      "Tagline: Manners maketh man.\n"
     ]
    },
    {
     "data": {
      "text/html": [
       "<img src=\"https://image.tmdb.org/t/p/original/ay7xwXn1G9fzX9TUBlkGA584rGi.jpg\" width=\"200\"/>"
      ],
      "text/plain": [
       "<IPython.core.display.Image object>"
      ]
     },
     "metadata": {},
     "output_type": "display_data"
    },
    {
     "name": "stdout",
     "output_type": "stream",
     "text": [
      "\n",
      "\n",
      "Title: Spider-Man: Into the Spider-Verse\n",
      "Overview: Struggling to find his place in the world while juggling school and family, Brooklyn teenager Miles Morales is unexpectedly bitten by a radioactive spider and develops unfathomable powers just like the one and only Spider-Man. While wrestling with the implications of his new abilities, Miles discovers a super collider created by the madman Wilson \"Kingpin\" Fisk, causing others from across the Spider-Verse to be inadvertently transported to his dimension.\n",
      "Tagline: More than one wears the mask.\n"
     ]
    },
    {
     "data": {
      "text/html": [
       "<img src=\"https://image.tmdb.org/t/p/original/iiZZdoQBEYBv6id8su7ImL0oCbD.jpg\" width=\"200\"/>"
      ],
      "text/plain": [
       "<IPython.core.display.Image object>"
      ]
     },
     "metadata": {},
     "output_type": "display_data"
    },
    {
     "name": "stdout",
     "output_type": "stream",
     "text": [
      "\n",
      "\n",
      "Title: Gran Torino\n",
      "Overview: Disgruntled Korean War veteran Walt Kowalski sets out to reform his neighbor, Thao Lor, a Hmong teenager who tried to steal Kowalski's prized possession: a 1972 Gran Torino.\n",
      "Tagline: Ever come across somebody you shouldn't have f#cked with?\n"
     ]
    },
    {
     "data": {
      "text/html": [
       "<img src=\"https://image.tmdb.org/t/p/original/zUybYvxWdAJy5hhYovsXtHSWI1l.jpg\" width=\"200\"/>"
      ],
      "text/plain": [
       "<IPython.core.display.Image object>"
      ]
     },
     "metadata": {},
     "output_type": "display_data"
    },
    {
     "name": "stdout",
     "output_type": "stream",
     "text": [
      "\n",
      "\n"
     ]
    }
   ],
   "source": [
    "from IPython.display import Image, display\n",
    "\n",
    "base_url = \"https://image.tmdb.org/t/p/original\"\n",
    "df['poster_path'] = base_url + df['poster_path']\n",
    "\n",
    "def knn_recommendation(movie_title, k=15):\n",
    "    movie_index_original = df[df['title'] == movie_title].index\n",
    "    \n",
    "    if len(movie_index_original) == 0:\n",
    "        print(f\"Movie '{movie_title}' not found in the DataFrame.\")\n",
    "        return []   \n",
    "    \n",
    "    original_movie_index = movie_index_original[0]\n",
    "    movie_features = df_encoded_scaled[original_movie_index].reshape(1, -1)    \n",
    "    distances, indices = knn.kneighbors(movie_features, n_neighbors=k + 1)  # +1 to exclude itself\n",
    "\n",
    "    indices = indices.flatten()[1:] \n",
    "    \n",
    "    recommended_movies = df.iloc[indices][['title', 'overview', 'poster_path', 'tagline']]\n",
    "    recommended_movies_list = list(recommended_movies.itertuples(index=False, name=None))\n",
    "    \n",
    "    return recommended_movies_list[:k]\n",
    "\n",
    "def display_movie_details(movie_title, recommendations):\n",
    "    input_movie = df[df['title'] == movie_title].iloc[0]\n",
    "    print(f\"Input Movie: {movie_title}\\nOverview: {input_movie['overview']}\\n\\nTagline: {input_movie['tagline']}\")\n",
    "    display(Image(url=input_movie['poster_path'], width=200))\n",
    "    \n",
    "    print(\"\\nRecommended Movies:\\n\")\n",
    "    for title, overview, poster_path, tagline in recommendations:\n",
    "        print(f\"Title: {title}\\nOverview: {overview}\\nTagline: {tagline}\")\n",
    "        display(Image(url=poster_path, width=200))\n",
    "        print(\"\\n\")\n",
    "\n",
    "input_movie_title = \"Interstellar\"\n",
    "recommendations = knn_recommendation(input_movie_title)\n",
    "display_movie_details(input_movie_title, recommendations)\n"
   ]
  },
  {
   "cell_type": "markdown",
   "id": "0cfee0c3-f599-4147-a51a-73704bc27875",
   "metadata": {},
   "source": [
    "# this is the part where i want to implement my second idea in this MRS which is the recommendation by genre"
   ]
  },
  {
   "cell_type": "code",
   "execution_count": null,
   "id": "80864dcc-437a-4c9e-b33f-c5c714058095",
   "metadata": {},
   "outputs": [
    {
     "name": "stdout",
     "output_type": "stream",
     "text": [
      "Top Movies in Genre 'Romance':\n",
      "\n",
      "Title: Titanic\n",
      "Overview: 101-year-old Rose DeWitt Bukater tells the story of her life aboard the Titanic, 84 years later. A young Rose boards the ship with her mother and fiancé. Meanwhile, Jack Dawson and Fabrizio De Rossi win third-class tickets aboard the ship. Rose tells the whole story from Titanic's departure through to its death—on its first and last voyage—on April 15, 1912.\n",
      "Tagline: Nothing on Earth could come between them.\n"
     ]
    },
    {
     "data": {
      "text/html": [
       "<img src=\"https://image.tmdb.org/t/p/original/9xjZS2rlVxm8SFx8kPC3aIGCOYQ.jpg\" width=\"200\"/>"
      ],
      "text/plain": [
       "<IPython.core.display.Image object>"
      ]
     },
     "metadata": {},
     "output_type": "display_data"
    },
    {
     "name": "stdout",
     "output_type": "stream",
     "text": [
      "\n",
      "\n",
      "Title: Elemental\n",
      "Overview: In a city where fire, water, land and air residents live together, a fiery young woman and a go-with-the-flow guy will discover something elemental: how much they have in common.\n",
      "Tagline: Opposites react.\n"
     ]
    },
    {
     "data": {
      "text/html": [
       "<img src=\"https://image.tmdb.org/t/p/original/4Y1WNkd88JXmGfhtWR7dmDAo1T2.jpg\" width=\"200\"/>"
      ],
      "text/plain": [
       "<IPython.core.display.Image object>"
      ]
     },
     "metadata": {},
     "output_type": "display_data"
    },
    {
     "name": "stdout",
     "output_type": "stream",
     "text": [
      "\n",
      "\n",
      "Title: Beauty and the Beast\n",
      "Overview: A live-action adaptation of Disney's version of the classic tale of a cursed prince and a beautiful young woman who helps him break the spell.\n",
      "Tagline: Be our guest.\n"
     ]
    },
    {
     "data": {
      "text/html": [
       "<img src=\"https://image.tmdb.org/t/p/original/hKegSKIDep2ewJWPUQD7u0KqFIp.jpg\" width=\"200\"/>"
      ],
      "text/plain": [
       "<IPython.core.display.Image object>"
      ]
     },
     "metadata": {},
     "output_type": "display_data"
    },
    {
     "name": "stdout",
     "output_type": "stream",
     "text": [
      "\n",
      "\n",
      "Title: Forrest Gump\n",
      "Overview: A man with a low IQ has accomplished great things in his life and been present during significant historic events—in each case, far exceeding what anyone imagined he could do. But despite all he has achieved, his one true love eludes him.\n",
      "Tagline: The world will never be the same once you've seen it through the eyes of Forrest Gump.\n"
     ]
    },
    {
     "data": {
      "text/html": [
       "<img src=\"https://image.tmdb.org/t/p/original/arw2vcBveWOVZr6pxd9XTd1TdQa.jpg\" width=\"200\"/>"
      ],
      "text/plain": [
       "<IPython.core.display.Image object>"
      ]
     },
     "metadata": {},
     "output_type": "display_data"
    },
    {
     "name": "stdout",
     "output_type": "stream",
     "text": [
      "\n",
      "\n",
      "Title: Aladdin\n",
      "Overview: A kindhearted street urchin named Aladdin embarks on a magical adventure after finding a lamp that releases a wisecracking genie while a power-hungry Grand Vizier vies for the same lamp that has the power to make their deepest wishes come true.\n",
      "Tagline: Choose Wisely.\n"
     ]
    },
    {
     "data": {
      "text/html": [
       "<img src=\"https://image.tmdb.org/t/p/original/ykUEbfpkf8d0w49pHh0AD2KrT52.jpg\" width=\"200\"/>"
      ],
      "text/plain": [
       "<IPython.core.display.Image object>"
      ]
     },
     "metadata": {},
     "output_type": "display_data"
    },
    {
     "name": "stdout",
     "output_type": "stream",
     "text": [
      "\n",
      "\n",
      "Title: No Time to Die\n",
      "Overview: Bond has left active service and is enjoying a tranquil life in Jamaica. His peace is short-lived when his old friend Felix Leiter from the CIA turns up asking for help. The mission to rescue a kidnapped scientist turns out to be far more treacherous than expected, leading Bond onto the trail of a mysterious villain armed with dangerous new technology.\n",
      "Tagline: The mission that changes everything begins…\n"
     ]
    },
    {
     "data": {
      "text/html": [
       "<img src=\"https://image.tmdb.org/t/p/original/iUgygt3fscRoKWCV1d0C7FbM9TP.jpg\" width=\"200\"/>"
      ],
      "text/plain": [
       "<IPython.core.display.Image object>"
      ]
     },
     "metadata": {},
     "output_type": "display_data"
    },
    {
     "name": "stdout",
     "output_type": "stream",
     "text": [
      "\n",
      "\n",
      "Title: The Little Mermaid\n",
      "Overview: The youngest of King Triton’s daughters, and the most defiant, Ariel longs to find out more about the world beyond the sea, and while visiting the surface, falls for the dashing Prince Eric. With mermaids forbidden to interact with humans, Ariel makes a deal with the evil sea witch, Ursula, which gives her a chance to experience life on land, but ultimately places her life – and her father’s crown – in jeopardy.\n",
      "Tagline: Watch and you'll see, some day I'll be, part of your world!\n"
     ]
    },
    {
     "data": {
      "text/html": [
       "<img src=\"https://image.tmdb.org/t/p/original/ym1dxyOk4jFcSl4Q2zmRrA5BEEN.jpg\" width=\"200\"/>"
      ],
      "text/plain": [
       "<IPython.core.display.Image object>"
      ]
     },
     "metadata": {},
     "output_type": "display_data"
    },
    {
     "name": "stdout",
     "output_type": "stream",
     "text": [
      "\n",
      "\n",
      "Title: Maleficent\n",
      "Overview: A beautiful, pure-hearted young woman, Maleficent has an idyllic life growing up in a peaceable forest kingdom, until one day when an invading army threatens the harmony of the land.  Maleficent rises to be the land's fiercest protector, but she ultimately suffers a ruthless betrayal – an act that begins to turn her heart into stone. Bent on revenge, Maleficent faces an epic battle with the invading King's successor and, as a result, places a curse upon his newborn infant Aurora. As the child grows, Maleficent realizes that Aurora holds the key to peace in the kingdom – and to Maleficent's true happiness as well.\n",
      "Tagline: Don't believe the fairy tale.\n"
     ]
    },
    {
     "data": {
      "text/html": [
       "<img src=\"https://image.tmdb.org/t/p/original/bDG3yei6AJlEAK3A5wN7RwFXQ7V.jpg\" width=\"200\"/>"
      ],
      "text/plain": [
       "<IPython.core.display.Image object>"
      ]
     },
     "metadata": {},
     "output_type": "display_data"
    },
    {
     "name": "stdout",
     "output_type": "stream",
     "text": [
      "\n",
      "\n",
      "Title: The Curious Case of Benjamin Button\n",
      "Overview: Born under unusual circumstances, Benjamin Button springs into being as an elderly man in a New Orleans nursing home and ages in reverse. Twelve years after his birth, he meets Daisy, a child who flits in and out of his life as she grows up to be a dancer. Though he has all sorts of unusual adventures over the course of his life, it is his relationship with Daisy, and the hope that they will come together at the right time, that drives Benjamin forward.\n",
      "Tagline: Life isn't measured in minutes, but in moments.\n"
     ]
    },
    {
     "data": {
      "text/html": [
       "<img src=\"https://image.tmdb.org/t/p/original/26wEWZYt6yJkwRVkjcbwJEFh9IS.jpg\" width=\"200\"/>"
      ],
      "text/plain": [
       "<IPython.core.display.Image object>"
      ]
     },
     "metadata": {},
     "output_type": "display_data"
    },
    {
     "name": "stdout",
     "output_type": "stream",
     "text": [
      "\n",
      "\n",
      "Title: The Twilight Saga: Breaking Dawn - Part 2\n",
      "Overview: After the birth of Renesmee, the Cullens gather other vampire clans in order to protect the child from a false allegation that puts the family in front of the Volturi.\n",
      "Tagline: The epic finale that will live forever\n"
     ]
    },
    {
     "data": {
      "text/html": [
       "<img src=\"https://image.tmdb.org/t/p/original/7IGdPaKujv0BjI0Zd0m0a4CzEjJ.jpg\" width=\"200\"/>"
      ],
      "text/plain": [
       "<IPython.core.display.Image object>"
      ]
     },
     "metadata": {},
     "output_type": "display_data"
    },
    {
     "name": "stdout",
     "output_type": "stream",
     "text": [
      "\n",
      "\n"
     ]
    }
   ],
   "source": [
    "def recommend_top_movies_by_genre(genre, top_n=10):\n",
    "    filtered_df = df[df['genres'].str.contains(genre, case=False, na=False)].copy()\n",
    "    \n",
    "    filtered_df.loc[:, 'normalized_popularity'] = (filtered_df['popularity'] - filtered_df['popularity'].min()) / (filtered_df['popularity'].max() - filtered_df['popularity'].min())\n",
    "    filtered_df.loc[:, 'normalized_revenue'] = (filtered_df['revenue'] - filtered_df['revenue'].min()) / (filtered_df['revenue'].max() - filtered_df['revenue'].min())\n",
    "    filtered_df.loc[:, 'normalized_vote_average'] = (filtered_df['vote_average'] - filtered_df['vote_average'].min()) / (filtered_df['vote_average'].max() - filtered_df['vote_average'].min())\n",
    "    filtered_df.loc[:, 'normalized_vote_count'] = (filtered_df['vote_count'] - filtered_df['vote_count'].min()) / (filtered_df['vote_count'].max() - filtered_df['vote_count'].min())\n",
    "    filtered_df.loc[:, 'normalized_budget'] = (filtered_df['budget'] - filtered_df['budget'].min()) / (filtered_df['budget'].max() - filtered_df['budget'].min())\n",
    "    \n",
    "    filtered_df.loc[:, 'composite_score'] = (\n",
    "        0.2 * filtered_df['normalized_popularity'] +\n",
    "        0.2 * filtered_df['normalized_revenue'] +\n",
    "        0.2 * filtered_df['normalized_vote_average'] +\n",
    "        0.2 * filtered_df['normalized_vote_count'] +\n",
    "        0.2 * filtered_df['normalized_budget']\n",
    "    )\n",
    "    \n",
    "    sorted_df = filtered_df.sort_values(by='composite_score', ascending=False)\n",
    "    \n",
    "    top_movies = sorted_df.head(top_n)    \n",
    "    recommended_movies = top_movies[['title', 'overview', 'poster_path', 'tagline']]\n",
    "    recommended_movies_list = list(recommended_movies.itertuples(index=False, name=None))\n",
    "    return recommended_movies_list\n",
    "\n",
    "def display_genre_recommendations(genre, recommendations):\n",
    "    print(f\"Top Movies in Genre '{genre}':\\n\")\n",
    "    for title, overview, poster_path, tagline in recommendations:\n",
    "        print(f\"Title: {title}\\nOverview: {overview}\\nTagline: {tagline}\")\n",
    "        display(Image(url=poster_path, width=200))\n",
    "        print(\"\\n\")\n",
    "\n",
    "input_genre = \"Romance\"\n",
    "genre_recommendations = recommend_top_movies_by_genre(input_genre, top_n=10)\n",
    "display_genre_recommendations(input_genre, genre_recommendations)\n"
   ]
  },
  {
   "cell_type": "code",
   "execution_count": 33,
   "id": "3cb547d1-42fb-423d-9fd7-c2718a7640cc",
   "metadata": {},
   "outputs": [
    {
     "name": "stdout",
     "output_type": "stream",
     "text": [
      "<class 'pandas.core.frame.DataFrame'>\n",
      "Index: 915070 entries, 0 to 1058673\n",
      "Data columns (total 21 columns):\n",
      " #   Column                Non-Null Count   Dtype  \n",
      "---  ------                --------------   -----  \n",
      " 0   title                 915070 non-null  object \n",
      " 1   vote_average          915070 non-null  float64\n",
      " 2   vote_count            915070 non-null  int64  \n",
      " 3   status                915070 non-null  object \n",
      " 4   revenue               915070 non-null  int64  \n",
      " 5   runtime               915070 non-null  int64  \n",
      " 6   adult                 915070 non-null  bool   \n",
      " 7   budget                915070 non-null  int64  \n",
      " 8   original_language     915070 non-null  object \n",
      " 9   overview              915070 non-null  object \n",
      " 10  popularity            915070 non-null  float64\n",
      " 11  poster_path           915070 non-null  object \n",
      " 12  tagline               915070 non-null  object \n",
      " 13  genres                915070 non-null  object \n",
      " 14  production_companies  915070 non-null  object \n",
      " 15  production_countries  915070 non-null  object \n",
      " 16  spoken_languages      915070 non-null  object \n",
      " 17  keywords              915070 non-null  object \n",
      " 18  release_year          915070 non-null  int32  \n",
      " 19  release_month         915070 non-null  int32  \n",
      " 20  release_day           915070 non-null  int32  \n",
      "dtypes: bool(1), float64(2), int32(3), int64(4), object(11)\n",
      "memory usage: 137.0+ MB\n"
     ]
    }
   ],
   "source": [
    "df.info()"
   ]
  },
  {
   "cell_type": "code",
   "execution_count": 37,
   "id": "873ceb9c",
   "metadata": {},
   "outputs": [
    {
     "data": {
      "text/plain": [
       "['knn_model.pkl']"
      ]
     },
     "execution_count": 37,
     "metadata": {},
     "output_type": "execute_result"
    }
   ],
   "source": [
    "import joblib\n",
    "\n",
    "# Save objects\n",
    "joblib.dump(df, 'df.pkl')\n",
    "joblib.dump(df_encoded_scaled, 'df_encoded_scaled.pkl')\n",
    "joblib.dump(knn, 'knn_model.pkl')\n"
   ]
  }
 ],
 "metadata": {
  "kernelspec": {
   "display_name": "Python 3",
   "language": "python",
   "name": "python3"
  },
  "language_info": {
   "codemirror_mode": {
    "name": "ipython",
    "version": 3
   },
   "file_extension": ".py",
   "mimetype": "text/x-python",
   "name": "python",
   "nbconvert_exporter": "python",
   "pygments_lexer": "ipython3",
   "version": "3.11.0"
  }
 },
 "nbformat": 4,
 "nbformat_minor": 5
}
